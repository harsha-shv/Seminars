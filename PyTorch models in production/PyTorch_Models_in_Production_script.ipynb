{
 "cells": [
  {
   "cell_type": "code",
   "execution_count": null,
   "id": "fc61791e",
   "metadata": {},
   "outputs": [],
   "source": [
    "pip install torchserve torch-model-archiver torch-workflow-archiver"
   ]
  },
  {
   "cell_type": "code",
   "execution_count": null,
   "id": "1fbbb704",
   "metadata": {},
   "outputs": [],
   "source": [
    "#serve model\n",
    "git clone https://github.com/pytorch/serve.git\n"
   ]
  },
  {
   "cell_type": "code",
   "execution_count": null,
   "id": "40c4c604",
   "metadata": {},
   "outputs": [],
   "source": [
    "#Store a Model\n",
    "mkdir model_store\n",
    "wget https://download.pytorch.org/models/resnet18-f37072fd.pth"
   ]
  },
  {
   "cell_type": "code",
   "execution_count": null,
   "id": "e64de508",
   "metadata": {},
   "outputs": [],
   "source": [
    "#scripted mode\n",
    "from torchvision import models\n",
    "import torch\n",
    "model = models.resnet18(pretrained=True)"
   ]
  },
  {
   "cell_type": "code",
   "execution_count": null,
   "id": "12949697",
   "metadata": {},
   "outputs": [],
   "source": [
    "torch.save(model.state_dict(),\"resnet18.pth\")"
   ]
  },
  {
   "cell_type": "code",
   "execution_count": null,
   "id": "61bc3b46",
   "metadata": {},
   "outputs": [],
   "source": [
    "torch-model-archiver --model-name resnet-18 --version 1.0 --model-file model.py --serialized-file resnet18.pth --handler image_classifier --extra-files index_to_name.json"
   ]
  },
  {
   "cell_type": "code",
   "execution_count": null,
   "id": "f972bde2",
   "metadata": {},
   "outputs": [],
   "source": [
    "move resnet-18.mar model_store"
   ]
  },
  {
   "cell_type": "code",
   "execution_count": null,
   "id": "21481755",
   "metadata": {},
   "outputs": [],
   "source": [
    "torchserve --start --model-store model_store --models resnet-18=resnet-18.mar --ncs"
   ]
  },
  {
   "cell_type": "code",
   "execution_count": null,
   "id": "6b18aea1",
   "metadata": {},
   "outputs": [],
   "source": [
    "curl http://localhost:8081/models/\n",
    "        \n",
    "curl http://localhost:8081/models/resnet-18\n",
    "\n",
    "curl --verbose -X POST http://127.0.0.1:8080/predictions/resnet-18 -T kitten.jpg\n",
    "        "
   ]
  },
  {
   "cell_type": "code",
   "execution_count": null,
   "id": "c4216c86",
   "metadata": {},
   "outputs": [],
   "source": [
    "torchserve --stop"
   ]
  }
 ],
 "metadata": {
  "kernelspec": {
   "display_name": "Python 3 (ipykernel)",
   "language": "python",
   "name": "python3"
  },
  "language_info": {
   "codemirror_mode": {
    "name": "ipython",
    "version": 3
   },
   "file_extension": ".py",
   "mimetype": "text/x-python",
   "name": "python",
   "nbconvert_exporter": "python",
   "pygments_lexer": "ipython3",
   "version": "3.9.13"
  }
 },
 "nbformat": 4,
 "nbformat_minor": 5
}
